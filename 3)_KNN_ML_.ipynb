{
  "nbformat": 4,
  "nbformat_minor": 0,
  "metadata": {
    "colab": {
      "provenance": [],
      "authorship_tag": "ABX9TyNnwiGKR7qATVtnLFf39LxU",
      "include_colab_link": true
    },
    "kernelspec": {
      "name": "python3",
      "display_name": "Python 3"
    },
    "language_info": {
      "name": "python"
    }
  },
  "cells": [
    {
      "cell_type": "markdown",
      "metadata": {
        "id": "view-in-github",
        "colab_type": "text"
      },
      "source": [
        "<a href=\"https://colab.research.google.com/github/mnecmc/mnecmc/blob/main/3)_KNN_ML_.ipynb\" target=\"_parent\"><img src=\"https://colab.research.google.com/assets/colab-badge.svg\" alt=\"Open In Colab\"/></a>"
      ]
    },
    {
      "cell_type": "code",
      "execution_count": 1,
      "metadata": {
        "colab": {
          "base_uri": "https://localhost:8080/"
        },
        "id": "yAY5bucGVFxI",
        "outputId": "84382429-cddd-4fa4-c7d6-1f50b01eaeca"
      },
      "outputs": [
        {
          "output_type": "stream",
          "name": "stdout",
          "text": [
            "              precision    recall  f1-score   support\n",
            "\n",
            "           0       0.85      0.90      0.87       500\n",
            "           1       0.79      0.70      0.74       268\n",
            "\n",
            "    accuracy                           0.83       768\n",
            "   macro avg       0.82      0.80      0.81       768\n",
            "weighted avg       0.83      0.83      0.83       768\n",
            "\n",
            "Fitting 5 folds for each of 48 candidates, totalling 240 fits\n"
          ]
        },
        {
          "output_type": "execute_result",
          "data": {
            "text/plain": [
              "array([0])"
            ]
          },
          "metadata": {},
          "execution_count": 1
        }
      ],
      "source": [
        "################################################\n",
        "# KNN\n",
        "################################################\n",
        "\n",
        "# 1. Exploratory Data Analysis\n",
        "# 2. Data Preprocessing & Feature Engineering\n",
        "# 3. Modeling & Prediction\n",
        "# 4. Model Evaluation\n",
        "# 5. Hyperparameter Optimization\n",
        "# 6. Final Model\n",
        "\n",
        "import pandas as pd\n",
        "from sklearn.metrics import classification_report, roc_auc_score\n",
        "from sklearn.model_selection import GridSearchCV, cross_validate\n",
        "from sklearn.neighbors import KNeighborsClassifier\n",
        "from sklearn.preprocessing import StandardScaler\n",
        "pd.set_option('display.max_columns', None)\n",
        "pd.set_option('display.width', 500)\n",
        "\n",
        "\n",
        "################################################\n",
        "# 1. Exploratory Data Analysis\n",
        "################################################\n",
        "\n",
        "df = pd.read_csv(\"diabetes.csv\")\n",
        "\n",
        "df.head()\n",
        "df.shape\n",
        "df.describe().T\n",
        "df[\"Outcome\"].value_counts()\n",
        "\n",
        "\n",
        "################################################\n",
        "# 2. Data Preprocessing & Feature Engineering\n",
        "################################################\n",
        "\n",
        "y = df[\"Outcome\"]\n",
        "X = df.drop([\"Outcome\"], axis=1)\n",
        "\n",
        "X_scaled = StandardScaler().fit_transform(X)\n",
        "\n",
        "X = pd.DataFrame(X_scaled, columns=X.columns)\n",
        "\n",
        "################################################\n",
        "# 3. Modeling & Prediction\n",
        "################################################\n",
        "\n",
        "knn_model = KNeighborsClassifier().fit(X, y)\n",
        "\n",
        "random_user = X.sample(1, random_state=45)\n",
        "\n",
        "knn_model.predict(random_user)\n",
        "\n",
        "################################################\n",
        "# 4. Model Evaluation\n",
        "################################################\n",
        "\n",
        "# Confusion matrix için y_pred:\n",
        "y_pred = knn_model.predict(X)\n",
        "\n",
        "# AUC için y_prob:\n",
        "y_prob = knn_model.predict_proba(X)[:, 1]\n",
        "\n",
        "print(classification_report(y, y_pred))\n",
        "# acc 0.83\n",
        "# f1 0.74\n",
        "# AUC\n",
        "roc_auc_score(y, y_prob)\n",
        "# 0.90\n",
        "\n",
        "cv_results = cross_validate(knn_model, X, y, cv=5, scoring=[\"accuracy\", \"f1\", \"roc_auc\"])\n",
        "\n",
        "cv_results['test_accuracy'].mean()\n",
        "cv_results['test_f1'].mean()\n",
        "cv_results['test_roc_auc'].mean()\n",
        "\n",
        "\n",
        "# 0.73\n",
        "# 0.59\n",
        "# 0.78\n",
        "\n",
        "# 1. Örnek boyutu arttıralabilir.\n",
        "# 2. Veri ön işleme\n",
        "# 3. Özellik mühendisliği\n",
        "# 4. İlgili algoritma için optimizasyonlar yapılabilir.\n",
        "\n",
        "knn_model.get_params()\n",
        "\n",
        "################################################\n",
        "# 5. Hyperparameter Optimization\n",
        "################################################\n",
        "\n",
        "knn_model = KNeighborsClassifier()\n",
        "knn_model.get_params()\n",
        "\n",
        "knn_params = {\"n_neighbors\": range(2, 50)}\n",
        "\n",
        "knn_gs_best = GridSearchCV(knn_model,\n",
        "                           knn_params,\n",
        "                           cv=5,\n",
        "                           n_jobs=-1,\n",
        "                           verbose=1).fit(X, y)\n",
        "\n",
        "knn_gs_best.best_params_\n",
        "\n",
        "################################################\n",
        "# 6. Final Model\n",
        "################################################\n",
        "\n",
        "knn_final = knn_model.set_params(**knn_gs_best.best_params_).fit(X, y)\n",
        "\n",
        "cv_results = cross_validate(knn_final,\n",
        "                            X,\n",
        "                            y,\n",
        "                            cv=5,\n",
        "                            scoring=[\"accuracy\", \"f1\", \"roc_auc\"])\n",
        "\n",
        "cv_results['test_accuracy'].mean()\n",
        "cv_results['test_f1'].mean()\n",
        "cv_results['test_roc_auc'].mean()\n",
        "\n",
        "random_user = X.sample(1)\n",
        "\n",
        "knn_final.predict(random_user)"
      ]
    }
  ]
}